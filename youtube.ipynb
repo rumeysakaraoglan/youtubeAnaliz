{
 "cells": [
  {
   "cell_type": "code",
   "execution_count": 6,
   "id": "17c1409b",
   "metadata": {},
   "outputs": [],
   "source": [
    "import pandas as pd\n",
    "import numpy as np\n",
    "import requests"
   ]
  },
  {
   "cell_type": "code",
   "execution_count": 8,
   "id": "d6550bc8",
   "metadata": {},
   "outputs": [],
   "source": [
    "df_stream = pd.read_json('C:/Users/karao/Desktop/youtube/CA_category_id.json')\n",
    "#df = pd.read_csv('CAvideos.csv') \n",
    "#df.head()"
   ]
  },
  {
   "cell_type": "code",
   "execution_count": 9,
   "id": "647d68ef",
   "metadata": {},
   "outputs": [
    {
     "name": "stdout",
     "output_type": "stream",
     "text": [
      "(31, 3)\n"
     ]
    }
   ],
   "source": [
    "print(df_stream.shape)"
   ]
  },
  {
   "cell_type": "code",
   "execution_count": 10,
   "id": "bd0e06a2",
   "metadata": {},
   "outputs": [
    {
     "data": {
      "text/plain": [
       "Index(['kind', 'etag', 'items'], dtype='object')"
      ]
     },
     "execution_count": 10,
     "metadata": {},
     "output_type": "execute_result"
    }
   ],
   "source": [
    "df_stream.columns"
   ]
  },
  {
   "cell_type": "code",
   "execution_count": 11,
   "id": "ddf73afb",
   "metadata": {},
   "outputs": [
    {
     "name": "stdout",
     "output_type": "stream",
     "text": [
      "<class 'pandas.core.frame.DataFrame'>\n",
      "RangeIndex: 31 entries, 0 to 30\n",
      "Data columns (total 3 columns):\n",
      " #   Column  Non-Null Count  Dtype \n",
      "---  ------  --------------  ----- \n",
      " 0   kind    31 non-null     object\n",
      " 1   etag    31 non-null     object\n",
      " 2   items   31 non-null     object\n",
      "dtypes: object(3)\n",
      "memory usage: 872.0+ bytes\n"
     ]
    }
   ],
   "source": [
    "df_stream.info()"
   ]
  },
  {
   "cell_type": "code",
   "execution_count": 14,
   "id": "d7bf1f77",
   "metadata": {},
   "outputs": [
    {
     "data": {
      "text/plain": [
       "0    \"ld9biNPKjAjgjV7EZ4EKeEGrhao/1v2mrzYSYG6onNLt2...\n",
       "dtype: object"
      ]
     },
     "execution_count": 14,
     "metadata": {},
     "output_type": "execute_result"
    }
   ],
   "source": [
    "df_stream['etag'].mode()"
   ]
  },
  {
   "cell_type": "code",
   "execution_count": 15,
   "id": "bebd2182",
   "metadata": {},
   "outputs": [
    {
     "name": "stderr",
     "output_type": "stream",
     "text": [
      "C:\\Users\\karao\\anaconda3\\lib\\site-packages\\pandas\\core\\algorithms.py:944: UserWarning: Unable to sort modes: '<' not supported between instances of 'dict' and 'dict'\n",
      "  warn(f\"Unable to sort modes: {err}\")\n"
     ]
    },
    {
     "data": {
      "text/plain": [
       "0     {'kind': 'youtube#videoCategory', 'etag': '\"ld...\n",
       "1     {'kind': 'youtube#videoCategory', 'etag': '\"ld...\n",
       "2     {'kind': 'youtube#videoCategory', 'etag': '\"ld...\n",
       "3     {'kind': 'youtube#videoCategory', 'etag': '\"ld...\n",
       "4     {'kind': 'youtube#videoCategory', 'etag': '\"ld...\n",
       "5     {'kind': 'youtube#videoCategory', 'etag': '\"ld...\n",
       "6     {'kind': 'youtube#videoCategory', 'etag': '\"ld...\n",
       "7     {'kind': 'youtube#videoCategory', 'etag': '\"ld...\n",
       "8     {'kind': 'youtube#videoCategory', 'etag': '\"ld...\n",
       "9     {'kind': 'youtube#videoCategory', 'etag': '\"ld...\n",
       "10    {'kind': 'youtube#videoCategory', 'etag': '\"ld...\n",
       "11    {'kind': 'youtube#videoCategory', 'etag': '\"ld...\n",
       "12    {'kind': 'youtube#videoCategory', 'etag': '\"ld...\n",
       "13    {'kind': 'youtube#videoCategory', 'etag': '\"ld...\n",
       "14    {'kind': 'youtube#videoCategory', 'etag': '\"ld...\n",
       "15    {'kind': 'youtube#videoCategory', 'etag': '\"ld...\n",
       "16    {'kind': 'youtube#videoCategory', 'etag': '\"ld...\n",
       "17    {'kind': 'youtube#videoCategory', 'etag': '\"ld...\n",
       "18    {'kind': 'youtube#videoCategory', 'etag': '\"ld...\n",
       "19    {'kind': 'youtube#videoCategory', 'etag': '\"ld...\n",
       "20    {'kind': 'youtube#videoCategory', 'etag': '\"ld...\n",
       "21    {'kind': 'youtube#videoCategory', 'etag': '\"ld...\n",
       "22    {'kind': 'youtube#videoCategory', 'etag': '\"ld...\n",
       "23    {'kind': 'youtube#videoCategory', 'etag': '\"ld...\n",
       "24    {'kind': 'youtube#videoCategory', 'etag': '\"ld...\n",
       "25    {'kind': 'youtube#videoCategory', 'etag': '\"ld...\n",
       "26    {'kind': 'youtube#videoCategory', 'etag': '\"ld...\n",
       "27    {'kind': 'youtube#videoCategory', 'etag': '\"ld...\n",
       "28    {'kind': 'youtube#videoCategory', 'etag': '\"ld...\n",
       "29    {'kind': 'youtube#videoCategory', 'etag': '\"ld...\n",
       "30    {'kind': 'youtube#videoCategory', 'etag': '\"ld...\n",
       "dtype: object"
      ]
     },
     "execution_count": 15,
     "metadata": {},
     "output_type": "execute_result"
    }
   ],
   "source": [
    "df_stream['items'].mode()"
   ]
  },
  {
   "cell_type": "code",
   "execution_count": 18,
   "id": "6886af1a",
   "metadata": {},
   "outputs": [
    {
     "data": {
      "text/html": [
       "<div>\n",
       "<style scoped>\n",
       "    .dataframe tbody tr th:only-of-type {\n",
       "        vertical-align: middle;\n",
       "    }\n",
       "\n",
       "    .dataframe tbody tr th {\n",
       "        vertical-align: top;\n",
       "    }\n",
       "\n",
       "    .dataframe thead th {\n",
       "        text-align: right;\n",
       "    }\n",
       "</style>\n",
       "<table border=\"1\" class=\"dataframe\">\n",
       "  <thead>\n",
       "    <tr style=\"text-align: right;\">\n",
       "      <th></th>\n",
       "      <th>kind</th>\n",
       "      <th>etag</th>\n",
       "      <th>items</th>\n",
       "    </tr>\n",
       "  </thead>\n",
       "  <tbody>\n",
       "    <tr>\n",
       "      <th>23</th>\n",
       "      <td>youtube#videoCategoryListResponse</td>\n",
       "      <td>\"ld9biNPKjAjgjV7EZ4EKeEGrhao/1v2mrzYSYG6onNLt2...</td>\n",
       "      <td>{'kind': 'youtube#videoCategory', 'etag': '\"ld...</td>\n",
       "    </tr>\n",
       "    <tr>\n",
       "      <th>1</th>\n",
       "      <td>youtube#videoCategoryListResponse</td>\n",
       "      <td>\"ld9biNPKjAjgjV7EZ4EKeEGrhao/1v2mrzYSYG6onNLt2...</td>\n",
       "      <td>{'kind': 'youtube#videoCategory', 'etag': '\"ld...</td>\n",
       "    </tr>\n",
       "    <tr>\n",
       "      <th>22</th>\n",
       "      <td>youtube#videoCategoryListResponse</td>\n",
       "      <td>\"ld9biNPKjAjgjV7EZ4EKeEGrhao/1v2mrzYSYG6onNLt2...</td>\n",
       "      <td>{'kind': 'youtube#videoCategory', 'etag': '\"ld...</td>\n",
       "    </tr>\n",
       "    <tr>\n",
       "      <th>9</th>\n",
       "      <td>youtube#videoCategoryListResponse</td>\n",
       "      <td>\"ld9biNPKjAjgjV7EZ4EKeEGrhao/1v2mrzYSYG6onNLt2...</td>\n",
       "      <td>{'kind': 'youtube#videoCategory', 'etag': '\"ld...</td>\n",
       "    </tr>\n",
       "    <tr>\n",
       "      <th>25</th>\n",
       "      <td>youtube#videoCategoryListResponse</td>\n",
       "      <td>\"ld9biNPKjAjgjV7EZ4EKeEGrhao/1v2mrzYSYG6onNLt2...</td>\n",
       "      <td>{'kind': 'youtube#videoCategory', 'etag': '\"ld...</td>\n",
       "    </tr>\n",
       "  </tbody>\n",
       "</table>\n",
       "</div>"
      ],
      "text/plain": [
       "                                 kind  \\\n",
       "23  youtube#videoCategoryListResponse   \n",
       "1   youtube#videoCategoryListResponse   \n",
       "22  youtube#videoCategoryListResponse   \n",
       "9   youtube#videoCategoryListResponse   \n",
       "25  youtube#videoCategoryListResponse   \n",
       "\n",
       "                                                 etag  \\\n",
       "23  \"ld9biNPKjAjgjV7EZ4EKeEGrhao/1v2mrzYSYG6onNLt2...   \n",
       "1   \"ld9biNPKjAjgjV7EZ4EKeEGrhao/1v2mrzYSYG6onNLt2...   \n",
       "22  \"ld9biNPKjAjgjV7EZ4EKeEGrhao/1v2mrzYSYG6onNLt2...   \n",
       "9   \"ld9biNPKjAjgjV7EZ4EKeEGrhao/1v2mrzYSYG6onNLt2...   \n",
       "25  \"ld9biNPKjAjgjV7EZ4EKeEGrhao/1v2mrzYSYG6onNLt2...   \n",
       "\n",
       "                                                items  \n",
       "23  {'kind': 'youtube#videoCategory', 'etag': '\"ld...  \n",
       "1   {'kind': 'youtube#videoCategory', 'etag': '\"ld...  \n",
       "22  {'kind': 'youtube#videoCategory', 'etag': '\"ld...  \n",
       "9   {'kind': 'youtube#videoCategory', 'etag': '\"ld...  \n",
       "25  {'kind': 'youtube#videoCategory', 'etag': '\"ld...  "
      ]
     },
     "execution_count": 18,
     "metadata": {},
     "output_type": "execute_result"
    }
   ],
   "source": [
    "df_stream.sample(5)"
   ]
  },
  {
   "cell_type": "code",
   "execution_count": null,
   "id": "1e5952ab",
   "metadata": {},
   "outputs": [],
   "source": []
  }
 ],
 "metadata": {
  "kernelspec": {
   "display_name": "Python 3",
   "language": "python",
   "name": "python3"
  },
  "language_info": {
   "codemirror_mode": {
    "name": "ipython",
    "version": 3
   },
   "file_extension": ".py",
   "mimetype": "text/x-python",
   "name": "python",
   "nbconvert_exporter": "python",
   "pygments_lexer": "ipython3",
   "version": "3.8.8"
  }
 },
 "nbformat": 4,
 "nbformat_minor": 5
}
